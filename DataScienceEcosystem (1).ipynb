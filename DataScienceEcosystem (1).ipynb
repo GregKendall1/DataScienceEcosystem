{
 "cells": [
  {
   "cell_type": "markdown",
   "id": "4e6c1e5c-48a5-43c0-bbbb-ad16ca9409e3",
   "metadata": {},
   "source": [
    "# Data Science Tools and Ecosystem"
   ]
  },
  {
   "cell_type": "markdown",
   "id": "71c64315-ecd7-4926-bb3e-90f0198c7523",
   "metadata": {},
   "source": [
    "In this notebook, Data Science Tools and Ecosystem are summarized."
   ]
  },
  {
   "cell_type": "markdown",
   "id": "873aff3f-996e-4243-a78c-f5a9140d2aeb",
   "metadata": {
    "tags": []
   },
   "source": [
    "__Objectives:__\n",
    "- Listing popular tools for data science\n",
    "- Listing popular languages for data science\n",
    "- Evaluating simple arithmetic expressions\n"
   ]
  },
  {
   "cell_type": "markdown",
   "id": "0dc2644b-43be-4d4b-bcd1-b874d386863f",
   "metadata": {
    "tags": []
   },
   "source": [
    "Some of the popular languages that Data Scientists use are:\n",
    "1. Python\n",
    "2. R\n",
    "3. Java"
   ]
  },
  {
   "cell_type": "markdown",
   "id": "cd9b9613-7da3-4119-8aea-3a50d957b7a1",
   "metadata": {},
   "source": [
    "Some of the commonly used libraries used by Data Scientists include:\n",
    "1. NumPy\n",
    "2. SciPy\n",
    "3. Pandas"
   ]
  },
  {
   "cell_type": "markdown",
   "id": "8757925a-e981-46ce-8bc8-613f749e8a41",
   "metadata": {},
   "source": [
    "Data Science Tools|\n",
    "---|\n",
    "RStudio|\n",
    "Apache Spark|\n",
    "Jupyter\n"
   ]
  },
  {
   "cell_type": "markdown",
   "id": "00c46f8f-7e41-44f6-806a-e97e4ee4571a",
   "metadata": {},
   "source": [
    "### Below are a few examples of evaluating arithmetic expressions in Python"
   ]
  },
  {
   "cell_type": "code",
   "execution_count": 4,
   "id": "8cf2bcc7-e532-4c2d-a38e-eac409d08c3b",
   "metadata": {
    "tags": []
   },
   "outputs": [
    {
     "data": {
      "text/plain": [
       "17"
      ]
     },
     "execution_count": 4,
     "metadata": {},
     "output_type": "execute_result"
    }
   ],
   "source": [
    "# This multiplies and adds numbers\n",
    "(3*4)+5"
   ]
  },
  {
   "cell_type": "code",
   "execution_count": 2,
   "id": "01c8b27c-e436-4f63-998e-443927d5b579",
   "metadata": {
    "tags": []
   },
   "outputs": [
    {
     "data": {
      "text/plain": [
       "3.3333333333333335"
      ]
     },
     "execution_count": 2,
     "metadata": {},
     "output_type": "execute_result"
    }
   ],
   "source": [
    "# This will convert 200 minutes into hours\n",
    "200/60"
   ]
  },
  {
   "cell_type": "markdown",
   "id": "e62837e2-07cc-4feb-8382-856e8ff60800",
   "metadata": {},
   "source": [
    "## Author\n",
    "Greg K"
   ]
  },
  {
   "cell_type": "code",
   "execution_count": null,
   "id": "55c9d2f2-522b-4904-984e-dd50252a8b9d",
   "metadata": {},
   "outputs": [],
   "source": []
  }
 ],
 "metadata": {
  "kernelspec": {
   "display_name": "Python",
   "language": "python",
   "name": "conda-env-python-py"
  },
  "language_info": {
   "codemirror_mode": {
    "name": "ipython",
    "version": 3
   },
   "file_extension": ".py",
   "mimetype": "text/x-python",
   "name": "python",
   "nbconvert_exporter": "python",
   "pygments_lexer": "ipython3",
   "version": "3.7.12"
  }
 },
 "nbformat": 4,
 "nbformat_minor": 5
}
